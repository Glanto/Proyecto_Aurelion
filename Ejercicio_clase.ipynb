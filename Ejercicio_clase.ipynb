{
 "cells": [
  {
   "cell_type": "markdown",
   "id": "334e71a1",
   "metadata": {},
   "source": [
    "1.Solicitar temperatura de 5 días\n",
    "2.Promedio, máxima y mínima\n",
    "3.Temperatura alta (mayor 25°)\n",
    "4.Resumen"
   ]
  },
  {
   "cell_type": "code",
   "execution_count": null,
   "id": "3ecb6ca8",
   "metadata": {},
   "outputs": [
    {
     "name": "stdout",
     "output_type": "stream",
     "text": [
      "Bienvenido a este programa! Aquí se le solicitará el registro de 5 temperaturas\n"
     ]
    }
   ],
   "source": [
    "temperaturas=[]\n",
    "print(\"Bienvenido a este programa! Aquí se le solicitará el registro de 5 temperaturas\")\n",
    "#bucle\n",
    "while len(temperaturas)<5:\n",
    "    valor=int(input(f'Ingrese por favor el registro {len(temperaturas)+1}'))\n",
    "    temperaturas.append(valor)\n",
    "#impresiones\n",
    "print(\"Las temperaturas ingresadas son:\", temperaturas)\n",
    "print(*temperaturas, sep=\",\")\n",
    "#cálculos adicionales\n",
    "promedio=sum(temperaturas)/len(temperaturas)\n",
    "máxima=max(temperaturas)\n",
    "minima=min(temperaturas)\n",
    "print(f\"\\n - Promedio:{promedio}\")\n",
    "print(f\"\\n - Máximo:{máxima}\")\n",
    "print(f\"\\n - Mínima:{minima}\")\n",
    "#Cálculo de temp > 25°\n",
    "for t in temperaturas:\n",
    "    if t > 25:\n",
    "        dias_calor+=1\n",
    "print(f'La cantidad de dias con temp. > 25° es de: {dias_calor}')"
   ]
  },
  {
   "cell_type": "markdown",
   "id": "f07bd674",
   "metadata": {},
   "source": [
    "1.Solicitar al usuario el monto de las primeras 10 ventas.\n",
    "2.Calcular el promedio de estas ventas iniciales.\n",
    "3.Identificar cuáles ventas estuvieron por encima del promedio.\n",
    "4.Calcular el total recaudado en estas primeras ventas.\n",
    "5.Determinar cuál fue tu mejor y peor venta inicial."
   ]
  },
  {
   "cell_type": "code",
   "execution_count": null,
   "id": "1cc941fb",
   "metadata": {},
   "outputs": [],
   "source": [
    "ventas=[]\n",
    "while ventas < 10:\n",
    "    venta=float(input('Ingrese el monto de las 10 primeras ventas:{len(ventas)+1}'))\n"
   ]
  }
 ],
 "metadata": {
  "kernelspec": {
   "display_name": "Python 3",
   "language": "python",
   "name": "python3"
  },
  "language_info": {
   "codemirror_mode": {
    "name": "ipython",
    "version": 3
   },
   "file_extension": ".py",
   "mimetype": "text/x-python",
   "name": "python",
   "nbconvert_exporter": "python",
   "pygments_lexer": "ipython3",
   "version": "3.13.5"
  }
 },
 "nbformat": 4,
 "nbformat_minor": 5
}
