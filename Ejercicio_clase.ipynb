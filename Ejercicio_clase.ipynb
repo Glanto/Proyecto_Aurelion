{
 "cells": [
  {
   "cell_type": "markdown",
   "id": "334e71a1",
   "metadata": {},
   "source": [
    "1.Solicitar temperatura de 5 días\n",
    "2.Promedio, máxima y mínima\n",
    "3.Temperatura alta (mayor 25°)\n",
    "4.Resumen"
   ]
  },
  {
   "cell_type": "code",
   "execution_count": 2,
   "id": "3ecb6ca8",
   "metadata": {},
   "outputs": [
    {
     "name": "stdout",
     "output_type": "stream",
     "text": [
      "Bienvenido a este programa! Aquí se le solicitará el registro de 5 temperaturas\n",
      "Las temperaturas ingresadas son: [25, 56, 87, 8064, 58]\n",
      "\n",
      " - Promedio:1658.0\n",
      "\n",
      " - Máximo:8064\n",
      "\n",
      " - Mínima:25\n",
      "La cantidad de dias con temp. > 25° es de: 4\n"
     ]
    }
   ],
   "source": [
    "temperaturas=[]\n",
    "print(\"Bienvenido a este programa! Aquí se le solicitará el registro de 5 temperaturas\")\n",
    "#bucle\n",
    "while len(temperaturas)<5:\n",
    "    valor=int(input(f'Ingrese por favor el registro {len(temperaturas)+1}'))\n",
    "    temperaturas.append(valor)\n",
    "#impresiones\n",
    "print(\"Las temperaturas ingresadas son:\", temperaturas)\n",
    "#print(*temperaturas, sep=\",\")\n",
    "#cálculos adicionales\n",
    "promedio=sum(temperaturas)/len(temperaturas)\n",
    "máxima=max(temperaturas)\n",
    "minima=min(temperaturas)\n",
    "print(f\"\\n - Promedio:{promedio}\")\n",
    "print(f\"\\n - Máximo:{máxima}\")\n",
    "print(f\"\\n - Mínima:{minima}\")\n",
    "#Cálculo de temp > 25°\n",
    "dias_calor=0\n",
    "for t in temperaturas:\n",
    "    if t > 25:\n",
    "        dias_calor+=1\n",
    "print(f'La cantidad de dias con temp. > 25° es de: {dias_calor}')"
   ]
  },
  {
   "cell_type": "markdown",
   "id": "f07bd674",
   "metadata": {},
   "source": [
    "1.Solicitar al usuario el monto de las primeras 10 ventas.\n",
    "2.Calcular el promedio de estas ventas iniciales.\n",
    "3.Identificar cuáles ventas estuvieron por encima del promedio.\n",
    "4.Calcular el total recaudado en estas primeras ventas.\n",
    "5.Determinar cuál fue tu mejor y peor venta inicial."
   ]
  },
  {
   "cell_type": "code",
   "execution_count": 3,
   "id": "1cc941fb",
   "metadata": {},
   "outputs": [
    {
     "name": "stdout",
     "output_type": "stream",
     "text": [
      "Las ventas que están por encima del promedio son: 256.0\n",
      "Las ventas que están por encima del promedio son: 596.0\n",
      "Las ventas que están por encima del promedio son: 250.0\n",
      "Las ventas que están por encima del promedio son: 356.0\n",
      "Las ventas que están por encima del promedio son: 264.0\n",
      "\n",
      " - Promedio:240.2\n",
      "\n",
      " - Mejor venta:596.0\n",
      "\n",
      " - Peor venta:35.0\n",
      "\n",
      " - Total recaudado:2402.0\n"
     ]
    }
   ],
   "source": [
    "ventas=[]\n",
    "while len(ventas) < 10:\n",
    "    venta=float(input(f'Ingrese el monto de las 10 primeras ventas:{len(ventas)+1}'))\n",
    "    ventas.append(venta)\n",
    "promedio=sum(ventas)/len(ventas)\n",
    "cantidad_ventas_encima_prom=0\n",
    "for i in range(10):\n",
    "    if ventas[i]>promedio:\n",
    "        print(\"Las ventas que están por encima del promedio son:\", ventas[i])\n",
    "        cantidad_ventas_encima_prom+=1\n",
    "total_recaudado=sum(ventas)\n",
    "peor_venta=min(ventas)\n",
    "mejor_venta=max(ventas)\n",
    "print(f\"\\n - Promedio:{promedio}\")\n",
    "print(f\"\\n - Mejor venta:{mejor_venta}\")\n",
    "print(f\"\\n - Peor venta:{peor_venta}\")\n",
    "print(f'\\n - Total recaudado:{total_recaudado}')"
   ]
  }
 ],
 "metadata": {
  "kernelspec": {
   "display_name": "Python 3",
   "language": "python",
   "name": "python3"
  },
  "language_info": {
   "codemirror_mode": {
    "name": "ipython",
    "version": 3
   },
   "file_extension": ".py",
   "mimetype": "text/x-python",
   "name": "python",
   "nbconvert_exporter": "python",
   "pygments_lexer": "ipython3",
   "version": "3.13.5"
  }
 },
 "nbformat": 4,
 "nbformat_minor": 5
}
